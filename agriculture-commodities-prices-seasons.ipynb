{
 "cells": [
  {
   "cell_type": "markdown",
   "metadata": {},
   "source": [
    "# Agriculture Commodities, Prices & Seasons "
   ]
  },
  {
   "cell_type": "code",
   "execution_count": 1,
   "metadata": {},
   "outputs": [],
   "source": [
    "import pandas as pd\n",
    "import numpy as np\n",
    "import matplotlib.pyplot as plt"
   ]
  },
  {
   "cell_type": "code",
   "execution_count": 2,
   "metadata": {},
   "outputs": [
    {
     "data": {
      "text/plain": [
       "<Figure size 1440x720 with 0 Axes>"
      ]
     },
     "execution_count": 2,
     "metadata": {},
     "output_type": "execute_result"
    },
    {
     "data": {
      "text/plain": [
       "<Figure size 1440x720 with 0 Axes>"
      ]
     },
     "metadata": {},
     "output_type": "display_data"
    }
   ],
   "source": [
    "from matplotlib.pyplot import figure\n",
    "figure(num=None, figsize=(20, 10))"
   ]
  },
  {
   "cell_type": "markdown",
   "metadata": {},
   "source": [
    "### Load and view data"
   ]
  },
  {
   "cell_type": "code",
   "execution_count": 3,
   "metadata": {},
   "outputs": [],
   "source": [
    "monthly_cmo_data = \"Monthly_data_cmo.csv\"\n",
    "monthly_cmo_df = pd.read_csv(monthly_cmo_data)"
   ]
  },
  {
   "cell_type": "code",
   "execution_count": 4,
   "metadata": {},
   "outputs": [
    {
     "data": {
      "text/plain": [
       "Index(['APMC', 'Commodity', 'Year', 'Month', 'arrivals_in_qtl', 'min_price',\n",
       "       'max_price', 'modal_price', 'date', 'district_name', 'state_name'],\n",
       "      dtype='object')"
      ]
     },
     "execution_count": 4,
     "metadata": {},
     "output_type": "execute_result"
    }
   ],
   "source": [
    "monthly_cmo_df.columns"
   ]
  },
  {
   "cell_type": "markdown",
   "metadata": {},
   "source": [
    "Variable description:\n",
    "* msprice- Minimum Support Price\n",
    "* arrivals_in_qtl- Quantity arrival in market (in quintal)\n",
    "* min_price- Minimum price charged per quintal\n",
    "* max_price- Maximum price charged per quintal\n",
    "* modal_price- Mode (Average) price charged per quintal\n"
   ]
  },
  {
   "cell_type": "code",
   "execution_count": 5,
   "metadata": {},
   "outputs": [
    {
     "data": {
      "text/html": [
       "<div>\n",
       "<style scoped>\n",
       "    .dataframe tbody tr th:only-of-type {\n",
       "        vertical-align: middle;\n",
       "    }\n",
       "\n",
       "    .dataframe tbody tr th {\n",
       "        vertical-align: top;\n",
       "    }\n",
       "\n",
       "    .dataframe thead th {\n",
       "        text-align: right;\n",
       "    }\n",
       "</style>\n",
       "<table border=\"1\" class=\"dataframe\">\n",
       "  <thead>\n",
       "    <tr style=\"text-align: right;\">\n",
       "      <th></th>\n",
       "      <th>APMC</th>\n",
       "      <th>Commodity</th>\n",
       "      <th>Year</th>\n",
       "      <th>Month</th>\n",
       "      <th>arrivals_in_qtl</th>\n",
       "      <th>min_price</th>\n",
       "      <th>max_price</th>\n",
       "      <th>modal_price</th>\n",
       "      <th>date</th>\n",
       "      <th>district_name</th>\n",
       "      <th>state_name</th>\n",
       "    </tr>\n",
       "  </thead>\n",
       "  <tbody>\n",
       "    <tr>\n",
       "      <th>0</th>\n",
       "      <td>Ahmednagar</td>\n",
       "      <td>Bajri</td>\n",
       "      <td>2015</td>\n",
       "      <td>April</td>\n",
       "      <td>79</td>\n",
       "      <td>1406</td>\n",
       "      <td>1538</td>\n",
       "      <td>1463</td>\n",
       "      <td>2015-04</td>\n",
       "      <td>Ahmadnagar</td>\n",
       "      <td>Maharashtra</td>\n",
       "    </tr>\n",
       "    <tr>\n",
       "      <th>1</th>\n",
       "      <td>Ahmednagar</td>\n",
       "      <td>Bajri</td>\n",
       "      <td>2016</td>\n",
       "      <td>April</td>\n",
       "      <td>106</td>\n",
       "      <td>1788</td>\n",
       "      <td>1925</td>\n",
       "      <td>1875</td>\n",
       "      <td>2016-04</td>\n",
       "      <td>Ahmadnagar</td>\n",
       "      <td>Maharashtra</td>\n",
       "    </tr>\n",
       "    <tr>\n",
       "      <th>2</th>\n",
       "      <td>Ahmednagar</td>\n",
       "      <td>Wheat(Husked)</td>\n",
       "      <td>2015</td>\n",
       "      <td>April</td>\n",
       "      <td>1253</td>\n",
       "      <td>1572</td>\n",
       "      <td>1890</td>\n",
       "      <td>1731</td>\n",
       "      <td>2015-04</td>\n",
       "      <td>Ahmadnagar</td>\n",
       "      <td>Maharashtra</td>\n",
       "    </tr>\n",
       "    <tr>\n",
       "      <th>3</th>\n",
       "      <td>Ahmednagar</td>\n",
       "      <td>Wheat(Husked)</td>\n",
       "      <td>2016</td>\n",
       "      <td>April</td>\n",
       "      <td>387</td>\n",
       "      <td>1750</td>\n",
       "      <td>2220</td>\n",
       "      <td>1999</td>\n",
       "      <td>2016-04</td>\n",
       "      <td>Ahmadnagar</td>\n",
       "      <td>Maharashtra</td>\n",
       "    </tr>\n",
       "    <tr>\n",
       "      <th>4</th>\n",
       "      <td>Ahmednagar</td>\n",
       "      <td>Sorgum(Jawar)</td>\n",
       "      <td>2015</td>\n",
       "      <td>April</td>\n",
       "      <td>3825</td>\n",
       "      <td>1600</td>\n",
       "      <td>2200</td>\n",
       "      <td>1900</td>\n",
       "      <td>2015-04</td>\n",
       "      <td>Ahmadnagar</td>\n",
       "      <td>Maharashtra</td>\n",
       "    </tr>\n",
       "  </tbody>\n",
       "</table>\n",
       "</div>"
      ],
      "text/plain": [
       "         APMC      Commodity  Year  Month  arrivals_in_qtl  min_price  \\\n",
       "0  Ahmednagar          Bajri  2015  April               79       1406   \n",
       "1  Ahmednagar          Bajri  2016  April              106       1788   \n",
       "2  Ahmednagar  Wheat(Husked)  2015  April             1253       1572   \n",
       "3  Ahmednagar  Wheat(Husked)  2016  April              387       1750   \n",
       "4  Ahmednagar  Sorgum(Jawar)  2015  April             3825       1600   \n",
       "\n",
       "   max_price  modal_price     date district_name   state_name  \n",
       "0       1538         1463  2015-04    Ahmadnagar  Maharashtra  \n",
       "1       1925         1875  2016-04    Ahmadnagar  Maharashtra  \n",
       "2       1890         1731  2015-04    Ahmadnagar  Maharashtra  \n",
       "3       2220         1999  2016-04    Ahmadnagar  Maharashtra  \n",
       "4       2200         1900  2015-04    Ahmadnagar  Maharashtra  "
      ]
     },
     "execution_count": 5,
     "metadata": {},
     "output_type": "execute_result"
    }
   ],
   "source": [
    "monthly_cmo_df.head()"
   ]
  },
  {
   "cell_type": "code",
   "execution_count": 6,
   "metadata": {},
   "outputs": [
    {
     "data": {
      "text/html": [
       "<div>\n",
       "<style scoped>\n",
       "    .dataframe tbody tr th:only-of-type {\n",
       "        vertical-align: middle;\n",
       "    }\n",
       "\n",
       "    .dataframe tbody tr th {\n",
       "        vertical-align: top;\n",
       "    }\n",
       "\n",
       "    .dataframe thead th {\n",
       "        text-align: right;\n",
       "    }\n",
       "</style>\n",
       "<table border=\"1\" class=\"dataframe\">\n",
       "  <thead>\n",
       "    <tr style=\"text-align: right;\">\n",
       "      <th></th>\n",
       "      <th>APMC</th>\n",
       "      <th>Commodity</th>\n",
       "      <th>Year</th>\n",
       "      <th>Month</th>\n",
       "      <th>arrivals_in_qtl</th>\n",
       "      <th>min_price</th>\n",
       "      <th>max_price</th>\n",
       "      <th>modal_price</th>\n",
       "      <th>date</th>\n",
       "      <th>district_name</th>\n",
       "      <th>state_name</th>\n",
       "    </tr>\n",
       "  </thead>\n",
       "  <tbody>\n",
       "    <tr>\n",
       "      <th>62424</th>\n",
       "      <td>Shrigonda</td>\n",
       "      <td>GRAM</td>\n",
       "      <td>2016</td>\n",
       "      <td>November</td>\n",
       "      <td>586</td>\n",
       "      <td>5700</td>\n",
       "      <td>6367</td>\n",
       "      <td>6200</td>\n",
       "      <td>2016-11</td>\n",
       "      <td>Ahmadnagar</td>\n",
       "      <td>Maharashtra</td>\n",
       "    </tr>\n",
       "    <tr>\n",
       "      <th>62425</th>\n",
       "      <td>Shrigonda</td>\n",
       "      <td>GREEN GRAM</td>\n",
       "      <td>2016</td>\n",
       "      <td>November</td>\n",
       "      <td>2</td>\n",
       "      <td>5000</td>\n",
       "      <td>5000</td>\n",
       "      <td>5000</td>\n",
       "      <td>2016-11</td>\n",
       "      <td>Ahmadnagar</td>\n",
       "      <td>Maharashtra</td>\n",
       "    </tr>\n",
       "    <tr>\n",
       "      <th>62426</th>\n",
       "      <td>Shrigonda</td>\n",
       "      <td>BLACK GRAM</td>\n",
       "      <td>2016</td>\n",
       "      <td>November</td>\n",
       "      <td>46</td>\n",
       "      <td>4700</td>\n",
       "      <td>6933</td>\n",
       "      <td>6400</td>\n",
       "      <td>2016-11</td>\n",
       "      <td>Ahmadnagar</td>\n",
       "      <td>Maharashtra</td>\n",
       "    </tr>\n",
       "    <tr>\n",
       "      <th>62427</th>\n",
       "      <td>Shrigonda</td>\n",
       "      <td>SOYBEAN</td>\n",
       "      <td>2016</td>\n",
       "      <td>November</td>\n",
       "      <td>166</td>\n",
       "      <td>2583</td>\n",
       "      <td>2708</td>\n",
       "      <td>2633</td>\n",
       "      <td>2016-11</td>\n",
       "      <td>Ahmadnagar</td>\n",
       "      <td>Maharashtra</td>\n",
       "    </tr>\n",
       "    <tr>\n",
       "      <th>62428</th>\n",
       "      <td>Shrigonda</td>\n",
       "      <td>SUNFLOWER</td>\n",
       "      <td>2016</td>\n",
       "      <td>November</td>\n",
       "      <td>74</td>\n",
       "      <td>2933</td>\n",
       "      <td>3200</td>\n",
       "      <td>3067</td>\n",
       "      <td>2016-11</td>\n",
       "      <td>Ahmadnagar</td>\n",
       "      <td>Maharashtra</td>\n",
       "    </tr>\n",
       "  </tbody>\n",
       "</table>\n",
       "</div>"
      ],
      "text/plain": [
       "            APMC   Commodity  Year     Month  arrivals_in_qtl  min_price  \\\n",
       "62424  Shrigonda        GRAM  2016  November              586       5700   \n",
       "62425  Shrigonda  GREEN GRAM  2016  November                2       5000   \n",
       "62426  Shrigonda  BLACK GRAM  2016  November               46       4700   \n",
       "62427  Shrigonda     SOYBEAN  2016  November              166       2583   \n",
       "62428  Shrigonda   SUNFLOWER  2016  November               74       2933   \n",
       "\n",
       "       max_price  modal_price     date district_name   state_name  \n",
       "62424       6367         6200  2016-11    Ahmadnagar  Maharashtra  \n",
       "62425       5000         5000  2016-11    Ahmadnagar  Maharashtra  \n",
       "62426       6933         6400  2016-11    Ahmadnagar  Maharashtra  \n",
       "62427       2708         2633  2016-11    Ahmadnagar  Maharashtra  \n",
       "62428       3200         3067  2016-11    Ahmadnagar  Maharashtra  "
      ]
     },
     "execution_count": 6,
     "metadata": {},
     "output_type": "execute_result"
    }
   ],
   "source": [
    "monthly_cmo_df.tail()"
   ]
  },
  {
   "cell_type": "markdown",
   "metadata": {},
   "source": [
    "At first glance the data doesn't seems organised by date.\n",
    "\n",
    "Let's see if data has missing values, and type of each column"
   ]
  },
  {
   "cell_type": "code",
   "execution_count": 7,
   "metadata": {},
   "outputs": [
    {
     "name": "stdout",
     "output_type": "stream",
     "text": [
      "<class 'pandas.core.frame.DataFrame'>\n",
      "RangeIndex: 62429 entries, 0 to 62428\n",
      "Data columns (total 11 columns):\n",
      "APMC               62429 non-null object\n",
      "Commodity          62429 non-null object\n",
      "Year               62429 non-null int64\n",
      "Month              62429 non-null object\n",
      "arrivals_in_qtl    62429 non-null int64\n",
      "min_price          62429 non-null int64\n",
      "max_price          62429 non-null int64\n",
      "modal_price        62429 non-null int64\n",
      "date               62429 non-null object\n",
      "district_name      62429 non-null object\n",
      "state_name         62429 non-null object\n",
      "dtypes: int64(5), object(6)\n",
      "memory usage: 5.2+ MB\n"
     ]
    }
   ],
   "source": [
    "monthly_cmo_df.info()"
   ]
  },
  {
   "cell_type": "markdown",
   "metadata": {},
   "source": [
    "Basic statistical information about data"
   ]
  },
  {
   "cell_type": "code",
   "execution_count": 8,
   "metadata": {
    "scrolled": true
   },
   "outputs": [
    {
     "data": {
      "text/html": [
       "<div>\n",
       "<style scoped>\n",
       "    .dataframe tbody tr th:only-of-type {\n",
       "        vertical-align: middle;\n",
       "    }\n",
       "\n",
       "    .dataframe tbody tr th {\n",
       "        vertical-align: top;\n",
       "    }\n",
       "\n",
       "    .dataframe thead th {\n",
       "        text-align: right;\n",
       "    }\n",
       "</style>\n",
       "<table border=\"1\" class=\"dataframe\">\n",
       "  <thead>\n",
       "    <tr style=\"text-align: right;\">\n",
       "      <th></th>\n",
       "      <th>Year</th>\n",
       "      <th>arrivals_in_qtl</th>\n",
       "      <th>min_price</th>\n",
       "      <th>max_price</th>\n",
       "      <th>modal_price</th>\n",
       "    </tr>\n",
       "  </thead>\n",
       "  <tbody>\n",
       "    <tr>\n",
       "      <th>count</th>\n",
       "      <td>62429.000000</td>\n",
       "      <td>6.242900e+04</td>\n",
       "      <td>6.242900e+04</td>\n",
       "      <td>6.242900e+04</td>\n",
       "      <td>62429.000000</td>\n",
       "    </tr>\n",
       "    <tr>\n",
       "      <th>mean</th>\n",
       "      <td>2015.337503</td>\n",
       "      <td>6.043088e+03</td>\n",
       "      <td>2.945228e+03</td>\n",
       "      <td>3.688814e+03</td>\n",
       "      <td>3296.003989</td>\n",
       "    </tr>\n",
       "    <tr>\n",
       "      <th>std</th>\n",
       "      <td>0.690451</td>\n",
       "      <td>3.470331e+04</td>\n",
       "      <td>1.318396e+04</td>\n",
       "      <td>7.662962e+03</td>\n",
       "      <td>3607.792534</td>\n",
       "    </tr>\n",
       "    <tr>\n",
       "      <th>min</th>\n",
       "      <td>2014.000000</td>\n",
       "      <td>1.000000e+00</td>\n",
       "      <td>0.000000e+00</td>\n",
       "      <td>0.000000e+00</td>\n",
       "      <td>0.000000</td>\n",
       "    </tr>\n",
       "    <tr>\n",
       "      <th>25%</th>\n",
       "      <td>2015.000000</td>\n",
       "      <td>3.800000e+01</td>\n",
       "      <td>1.250000e+03</td>\n",
       "      <td>1.600000e+03</td>\n",
       "      <td>1450.000000</td>\n",
       "    </tr>\n",
       "    <tr>\n",
       "      <th>50%</th>\n",
       "      <td>2015.000000</td>\n",
       "      <td>2.110000e+02</td>\n",
       "      <td>1.976000e+03</td>\n",
       "      <td>2.797000e+03</td>\n",
       "      <td>2425.000000</td>\n",
       "    </tr>\n",
       "    <tr>\n",
       "      <th>75%</th>\n",
       "      <td>2016.000000</td>\n",
       "      <td>1.364000e+03</td>\n",
       "      <td>3.900000e+03</td>\n",
       "      <td>4.647000e+03</td>\n",
       "      <td>4257.000000</td>\n",
       "    </tr>\n",
       "    <tr>\n",
       "      <th>max</th>\n",
       "      <td>2016.000000</td>\n",
       "      <td>1.450254e+06</td>\n",
       "      <td>3.153038e+06</td>\n",
       "      <td>1.600090e+06</td>\n",
       "      <td>142344.000000</td>\n",
       "    </tr>\n",
       "  </tbody>\n",
       "</table>\n",
       "</div>"
      ],
      "text/plain": [
       "               Year  arrivals_in_qtl     min_price     max_price  \\\n",
       "count  62429.000000     6.242900e+04  6.242900e+04  6.242900e+04   \n",
       "mean    2015.337503     6.043088e+03  2.945228e+03  3.688814e+03   \n",
       "std        0.690451     3.470331e+04  1.318396e+04  7.662962e+03   \n",
       "min     2014.000000     1.000000e+00  0.000000e+00  0.000000e+00   \n",
       "25%     2015.000000     3.800000e+01  1.250000e+03  1.600000e+03   \n",
       "50%     2015.000000     2.110000e+02  1.976000e+03  2.797000e+03   \n",
       "75%     2016.000000     1.364000e+03  3.900000e+03  4.647000e+03   \n",
       "max     2016.000000     1.450254e+06  3.153038e+06  1.600090e+06   \n",
       "\n",
       "         modal_price  \n",
       "count   62429.000000  \n",
       "mean     3296.003989  \n",
       "std      3607.792534  \n",
       "min         0.000000  \n",
       "25%      1450.000000  \n",
       "50%      2425.000000  \n",
       "75%      4257.000000  \n",
       "max    142344.000000  "
      ]
     },
     "execution_count": 8,
     "metadata": {},
     "output_type": "execute_result"
    }
   ],
   "source": [
    "monthly_cmo_df.describe()"
   ]
  },
  {
   "cell_type": "markdown",
   "metadata": {},
   "source": [
    "Let's dig in data some deeper"
   ]
  },
  {
   "cell_type": "code",
   "execution_count": 9,
   "metadata": {},
   "outputs": [
    {
     "data": {
      "text/plain": [
       "array([2015, 2016, 2014])"
      ]
     },
     "execution_count": 9,
     "metadata": {},
     "output_type": "execute_result"
    }
   ],
   "source": [
    "monthly_cmo_df.Year.unique()"
   ]
  },
  {
   "cell_type": "code",
   "execution_count": 10,
   "metadata": {},
   "outputs": [
    {
     "data": {
      "text/plain": [
       "Mumbai                    1538\n",
       "Pune                      1513\n",
       "Nagpur                    1340\n",
       "Barshi                    1076\n",
       "Jalgaon                   1055\n",
       "Solapur                    984\n",
       "Kamthi                     967\n",
       "Shrirampur                 947\n",
       "Kalyan                     932\n",
       "Pune-Manjri                930\n",
       "Aurangabad                 918\n",
       "Rahata                     848\n",
       "Karad                      831\n",
       "Amarawati                  817\n",
       "Kolhapur                   816\n",
       "Nashik                     750\n",
       "Pune-Pimpri                681\n",
       "Ahmednagar                 649\n",
       "Ramtek                     621\n",
       "Satara                     549\n",
       "Akluj                      542\n",
       "Osmanabad                  510\n",
       "Sangali                    462\n",
       "Ratanagari                 457\n",
       "Manchar                    455\n",
       "Chandrapur-Ganjwad         454\n",
       "Dhule                      434\n",
       "Vadgaon Peth               415\n",
       "Kalmeshwar                 415\n",
       "Kalamb (Os)                407\n",
       "                          ... \n",
       "Lakhani                     13\n",
       "Shirala                     13\n",
       "Umrane                      13\n",
       "Hingoli-Kanegaon Naka       13\n",
       "Ashti (Wardha)              11\n",
       "Washi(Osmanabad)            11\n",
       "Hanegaon                    10\n",
       "Dindori                     10\n",
       "Goregaon                    10\n",
       "Junnar (Bhlhe)               9\n",
       "Basmat (Kurunda)             9\n",
       "Kundalwadi                   9\n",
       "Maregaon                     9\n",
       "Raver-Sawada                 9\n",
       "Sadak Arjuni                 8\n",
       "Shrigonda-Ghogargaon         8\n",
       "Mahad                        8\n",
       "Barshi Takli                 6\n",
       "Bodwad-Varangaon             5\n",
       "Tiwasa                       4\n",
       "Vadvani                      4\n",
       "Kalyan (Cattle Market)       4\n",
       "Devri                        3\n",
       "Bhor                         3\n",
       "Bhadrawati                   3\n",
       "Biloli                       2\n",
       "Karjat (A- Nagar)            2\n",
       "Kuntur                       1\n",
       "Talegaon Dabhade             1\n",
       "Bhoom                        1\n",
       "Name: APMC, Length: 349, dtype: int64"
      ]
     },
     "execution_count": 10,
     "metadata": {},
     "output_type": "execute_result"
    }
   ],
   "source": [
    "monthly_cmo_df.APMC.value_counts()"
   ]
  },
  {
   "cell_type": "code",
   "execution_count": 11,
   "metadata": {},
   "outputs": [
    {
     "data": {
      "text/plain": [
       "Gram                     3972\n",
       "Wheat(Husked)            3946\n",
       "Sorgum(Jawar)            3560\n",
       "Soybean                  3545\n",
       "Pigeon Pea (Tur)         3389\n",
       "Maize                    2422\n",
       "Green Gram               2294\n",
       "Bajri                    2250\n",
       "Onion                    1796\n",
       "Black Gram               1557\n",
       "Ground Nut Pods (Dry)    1045\n",
       "Cotton                    990\n",
       "Tomato                    975\n",
       "Brinjal                   961\n",
       "Ladies Finger             877\n",
       "Paddy-Unhusked            870\n",
       "Cabbage                   851\n",
       "Green Chilli              802\n",
       "Cucumber                  797\n",
       "Flower                    784\n",
       "Bitter Gourd              784\n",
       "Potato                    687\n",
       "Cluster Bean              664\n",
       "Rice(Paddy-Hus)           640\n",
       "Capsicum                  625\n",
       "Bottle Gourd              570\n",
       "Garlic                    557\n",
       "Pomegranate               539\n",
       "Sesamum                   526\n",
       "Ginger (Fresh)            496\n",
       "                         ... \n",
       "SHEEP                       1\n",
       "CASTOR SEED                 1\n",
       "JACK FRUIT                  1\n",
       "SARSAV                      1\n",
       "NAGALI                      1\n",
       "TAMARIND                    1\n",
       "GOATS                       1\n",
       "BETELNUTS                   1\n",
       "NIGER-SEED                  1\n",
       "COCONUT                     1\n",
       "PUNVAD                      1\n",
       "Coriander                   1\n",
       "AMLA                        1\n",
       "CUMMIN                      1\n",
       "Tuljapuri                   1\n",
       "FIG                         1\n",
       "GROUNDNUT PODS (WET)        1\n",
       "Guvar                       1\n",
       "CARDAMOM                    1\n",
       "BUFFALO                     1\n",
       "DOUBLE BEE                  1\n",
       "INDIAN BEAN                 1\n",
       "TANDULJA                    1\n",
       "FENNEL                      1\n",
       "Papnas                      1\n",
       "Terda                       1\n",
       "Ghee                        1\n",
       "LEAFY VEGETABLE             1\n",
       "SHAHALE                     1\n",
       "NACHANI                     1\n",
       "Name: Commodity, Length: 352, dtype: int64"
      ]
     },
     "execution_count": 11,
     "metadata": {},
     "output_type": "execute_result"
    }
   ],
   "source": [
    "monthly_cmo_df.Commodity.value_counts()"
   ]
  },
  {
   "cell_type": "markdown",
   "metadata": {},
   "source": [
    "### Data Cleaning\n",
    "\n",
    "*We can see we have some commodities name in uppercase and some in lowercase*. Convert all this to lowercase to find if there is any duplicates"
   ]
  },
  {
   "cell_type": "code",
   "execution_count": 12,
   "metadata": {},
   "outputs": [
    {
     "data": {
      "text/plain": [
       "352"
      ]
     },
     "execution_count": 12,
     "metadata": {},
     "output_type": "execute_result"
    }
   ],
   "source": [
    "len(monthly_cmo_df.Commodity.unique())"
   ]
  },
  {
   "cell_type": "code",
   "execution_count": 13,
   "metadata": {},
   "outputs": [],
   "source": [
    "# lower case all entries of commodity\n",
    "monthly_cmo_df.Commodity = monthly_cmo_df.Commodity.str.lower()"
   ]
  },
  {
   "cell_type": "code",
   "execution_count": 14,
   "metadata": {},
   "outputs": [
    {
     "data": {
      "text/plain": [
       "204"
      ]
     },
     "execution_count": 14,
     "metadata": {},
     "output_type": "execute_result"
    }
   ],
   "source": [
    "len(monthly_cmo_df.Commodity.unique())"
   ]
  },
  {
   "cell_type": "markdown",
   "metadata": {},
   "source": [
    "**Wow unique values dropped from 352 to 204** We can do even better lets remove leading and trailing whitespaces"
   ]
  },
  {
   "cell_type": "code",
   "execution_count": 15,
   "metadata": {},
   "outputs": [
    {
     "data": {
      "text/plain": [
       "202"
      ]
     },
     "execution_count": 15,
     "metadata": {},
     "output_type": "execute_result"
    }
   ],
   "source": [
    "monthly_cmo_df.Commodity = monthly_cmo_df.Commodity.str.strip()\n",
    "len(monthly_cmo_df.Commodity.unique())"
   ]
  },
  {
   "cell_type": "markdown",
   "metadata": {},
   "source": [
    "2 more duplicate values removed"
   ]
  },
  {
   "cell_type": "markdown",
   "metadata": {},
   "source": [
    "We can see there is some extra spaces in between words, let's try to remove them."
   ]
  },
  {
   "cell_type": "code",
   "execution_count": 16,
   "metadata": {},
   "outputs": [
    {
     "data": {
      "text/plain": [
       "201"
      ]
     },
     "execution_count": 16,
     "metadata": {},
     "output_type": "execute_result"
    }
   ],
   "source": [
    "monthly_cmo_df.Commodity = monthly_cmo_df.Commodity.str.replace(' +', '')\n",
    "len(monthly_cmo_df.Commodity.unique())"
   ]
  },
  {
   "cell_type": "markdown",
   "metadata": {},
   "source": [
    "**Looks like we have handles all redundant names** Let's take a look at all 201 elements of Comodity column to see if anything else id wrong !"
   ]
  },
  {
   "cell_type": "code",
   "execution_count": 17,
   "metadata": {},
   "outputs": [
    {
     "data": {
      "text/plain": [
       "array(['bajri', 'wheat(husked)', 'sorgum(jawar)', 'maize', 'gram',\n",
       "       'horsegram', 'matki', 'pigeonpea(tur)', 'blackgram', 'castorseed',\n",
       "       'soybean', 'jaggery', 'lemon', 'ginger(fresh)', 'potato',\n",
       "       'ladiesfinger', 'flower', 'carrot', 'clusterbean', 'ghevda',\n",
       "       'ghosali(bhaji)', 'mango(raw)', 'cucumber', 'onion', 'bittergourd',\n",
       "       'cabbage', 'garlic', 'math(bhaji)', 'capsicum', 'tomato',\n",
       "       'brinjal', 'tamarind', 'tamarindseed', 'coriander(dry)',\n",
       "       'greenchilli', 'chillies(red)', 'mustard', 'paddy-unhusked',\n",
       "       'hilda', 'chikoo', 'cotton', 'groundnutpods(dry)', 'pomegranate',\n",
       "       'papai', 'melon', 'beetroot', 'bottlegourd', 'dhemse', 'coriander',\n",
       "       'spinach', 'shevga', 'smallgourd', 'grapes', 'kharbuj',\n",
       "       'greengram', 'sunflower', 'safflower', 'mango', 'watermelon',\n",
       "       'mosambi', 'orange', 'fenugreek', 'cowpea', 'greenpeas(dry)',\n",
       "       'squashgourd', 'maize(corn.)', 'chino', 'curryleaves',\n",
       "       'sweetpotato', 'walvad', 'rice(paddy-hus)', 'custardapple',\n",
       "       'green-peas', 'bhagar/vari', 'bor', 'kardai', 'othervegetables',\n",
       "       'radish', 'walpapdi', 'kandapat', 'sesamum', 'shepu', 'guava',\n",
       "       'banana', 'chavli(shenga)', 'apple', 'thymol/lovage', 'batbati',\n",
       "       'othercereals', 'linseed', 'pineapple', 'pumpkin', 'methi(bhaji)',\n",
       "       'naspatti', 'hebuffalo', 'lentil', 'rajgira', 'papnas', 'awala',\n",
       "       'harbara(pendi)', 'buffalo', 'jambhul', 'ambakoy', 'bullockheart',\n",
       "       'bullack', 'fig', 'walbhaji', 'sugarcane', 'nagali', 'ridgegourd',\n",
       "       'tag', 'ginger(dry)', 'zendu', 'otherspices', 'rala', 'niger-seed',\n",
       "       'indianbean', 'oth.splitpulses', 'otherpulses', 'sarsav',\n",
       "       'neem-seed', 'malelamb', 'malegoat', 'sheep', 'otheroilseeds',\n",
       "       'cow', 'snakegourd', 'jackfruit(raw)', 'chavli(pala)', 'raddish',\n",
       "       'mulashenga', 'pappaya(bhaji)', 'pigen-pea(bhaji)', 'goats',\n",
       "       'turmeric', 'amla', 'splitgram', 'splitlentil', 'spiltgerrngram',\n",
       "       'spiltpigeonpea', 'splitblackgram', 'gr.nutkernels', 'pavtta',\n",
       "       'woodapple', 'strawberi', 'leafyvegetable', 'peer', 'plum',\n",
       "       'hemp-seed', 'wheat(unhusked)', 'guvar', 'punvad', 'fennel',\n",
       "       'coconut', 'sugar', 'arvi', 'frenchbean', 'elephantroot', 'cummin',\n",
       "       'cashewnuts', 'betelnuts', 'cardamom', 'pitch', 'litchi',\n",
       "       'jackfruit', 'kand', 'parwar', 'mint', 'lang', 'ambatchuka',\n",
       "       'karvand', 'nolkol', 'hemp', 'baruseed', 'shepa', 'soupberries',\n",
       "       'shahale', 'tandulja', 'ghee', 'farshi', 'doublebee',\n",
       "       'banana(raw)', 'goosefoot', 'ghevdaseed', 'pavata',\n",
       "       'harbara(bhaji)', 'gulchadi', 'shewanti', 'jui', 'kagda', 'terda',\n",
       "       'tuljapuri', 'bijli', 'nachani', 'bedana', 'fodder', 'skin&bones',\n",
       "       'aster', 'chandani', 'kalvad', 'groundnutpods(wet)'], dtype=object)"
      ]
     },
     "execution_count": 17,
     "metadata": {},
     "output_type": "execute_result"
    }
   ],
   "source": [
    "monthly_cmo_df.Commodity.unique()"
   ]
  },
  {
   "cell_type": "markdown",
   "metadata": {},
   "source": [
    "**Looks good**, We have cleaned Commodity column succesfully"
   ]
  },
  {
   "cell_type": "markdown",
   "metadata": {},
   "source": [
    "Now lets dig some deeper in APMC column to see if it also has redundant data"
   ]
  },
  {
   "cell_type": "code",
   "execution_count": 18,
   "metadata": {},
   "outputs": [
    {
     "data": {
      "text/plain": [
       "349"
      ]
     },
     "execution_count": 18,
     "metadata": {},
     "output_type": "execute_result"
    }
   ],
   "source": [
    "len(monthly_cmo_df.APMC.unique())"
   ]
  },
  {
   "cell_type": "code",
   "execution_count": 19,
   "metadata": {},
   "outputs": [
    {
     "data": {
      "text/plain": [
       "349"
      ]
     },
     "execution_count": 19,
     "metadata": {},
     "output_type": "execute_result"
    }
   ],
   "source": [
    "len(monthly_cmo_df.APMC.str.lower().str.strip().str.replace(' +', '').unique())"
   ]
  },
  {
   "cell_type": "markdown",
   "metadata": {},
   "source": [
    "It don't has redundant data, so lets leave this column as it is"
   ]
  },
  {
   "cell_type": "code",
   "execution_count": 20,
   "metadata": {},
   "outputs": [
    {
     "data": {
      "text/plain": [
       "(['2014-09',\n",
       "  '2014-10',\n",
       "  '2014-11',\n",
       "  '2014-12',\n",
       "  '2015-01',\n",
       "  '2015-02',\n",
       "  '2015-03',\n",
       "  '2015-04',\n",
       "  '2015-05',\n",
       "  '2015-06',\n",
       "  '2015-07',\n",
       "  '2015-08',\n",
       "  '2015-09',\n",
       "  '2015-10',\n",
       "  '2015-11',\n",
       "  '2015-12',\n",
       "  '2016-01',\n",
       "  '2016-02',\n",
       "  '2016-03',\n",
       "  '2016-04',\n",
       "  '2016-05',\n",
       "  '2016-06',\n",
       "  '2016-07',\n",
       "  '2016-08',\n",
       "  '2016-09',\n",
       "  '2016-10',\n",
       "  '2016-11'],\n",
       " count       62429\n",
       " unique         27\n",
       " top       2016-01\n",
       " freq         2769\n",
       " Name: date, dtype: object)"
      ]
     },
     "execution_count": 20,
     "metadata": {},
     "output_type": "execute_result"
    }
   ],
   "source": [
    "sorted(monthly_cmo_df.date.unique()), monthly_cmo_df.date.describe()"
   ]
  },
  {
   "cell_type": "markdown",
   "metadata": {},
   "source": [
    "We have data from September 2014 to November 2016, a period of 27 months"
   ]
  },
  {
   "cell_type": "markdown",
   "metadata": {},
   "source": [
    "Now see `district_name` for any unwanted things"
   ]
  },
  {
   "cell_type": "code",
   "execution_count": 21,
   "metadata": {},
   "outputs": [
    {
     "data": {
      "text/plain": [
       "(array(['Ahmadnagar', 'Akola', 'Amaravathi', 'Aurangabad', 'Beed',\n",
       "        'Bhandara', 'Buldhana', 'Chandrapur', 'Dhule', 'Gadchiroli',\n",
       "        'Gondiya', 'Hingoli', 'Jalgaon', 'Jalna', 'Kolhapur', 'Latur',\n",
       "        'Mumbai', 'Nagpur', 'Nanded', 'Nandurbar', 'Nasik', 'Osmanabad',\n",
       "        'Parbhani', 'Pune', 'Raigad', 'Ratnagiri', 'Sangli', 'Satara',\n",
       "        'Solapur', 'Thane', 'Wardha', 'Wasim', 'Yewatmal'], dtype=object),\n",
       " count     62429\n",
       " unique       33\n",
       " top        Pune\n",
       " freq       6366\n",
       " Name: district_name, dtype: object)"
      ]
     },
     "execution_count": 21,
     "metadata": {},
     "output_type": "execute_result"
    }
   ],
   "source": [
    "monthly_cmo_df.district_name.unique(), monthly_cmo_df.district_name.describe()"
   ]
  },
  {
   "cell_type": "code",
   "execution_count": 22,
   "metadata": {},
   "outputs": [
    {
     "data": {
      "text/plain": [
       "count           62429\n",
       "unique              1\n",
       "top       Maharashtra\n",
       "freq            62429\n",
       "Name: state_name, dtype: object"
      ]
     },
     "execution_count": 22,
     "metadata": {},
     "output_type": "execute_result"
    }
   ],
   "source": [
    "monthly_cmo_df.state_name.describe()"
   ]
  },
  {
   "cell_type": "markdown",
   "metadata": {},
   "source": [
    "**As we are going to do time-series analysis we will convert date to `datetime` object** "
   ]
  },
  {
   "cell_type": "code",
   "execution_count": 23,
   "metadata": {},
   "outputs": [
    {
     "name": "stdout",
     "output_type": "stream",
     "text": [
      "<class 'pandas.core.frame.DataFrame'>\n",
      "RangeIndex: 62429 entries, 0 to 62428\n",
      "Data columns (total 11 columns):\n",
      "APMC               62429 non-null object\n",
      "Commodity          62429 non-null object\n",
      "Year               62429 non-null int64\n",
      "Month              62429 non-null object\n",
      "arrivals_in_qtl    62429 non-null int64\n",
      "min_price          62429 non-null int64\n",
      "max_price          62429 non-null int64\n",
      "modal_price        62429 non-null int64\n",
      "date               62429 non-null datetime64[ns]\n",
      "district_name      62429 non-null object\n",
      "state_name         62429 non-null object\n",
      "dtypes: datetime64[ns](1), int64(5), object(5)\n",
      "memory usage: 5.2+ MB\n"
     ]
    }
   ],
   "source": [
    "monthly_cmo_df.date = pd.to_datetime(monthly_cmo_df.date, format='%Y-%m')\n",
    "monthly_cmo_df.info()"
   ]
  },
  {
   "cell_type": "code",
   "execution_count": 24,
   "metadata": {},
   "outputs": [
    {
     "data": {
      "text/html": [
       "<div>\n",
       "<style scoped>\n",
       "    .dataframe tbody tr th:only-of-type {\n",
       "        vertical-align: middle;\n",
       "    }\n",
       "\n",
       "    .dataframe tbody tr th {\n",
       "        vertical-align: top;\n",
       "    }\n",
       "\n",
       "    .dataframe thead th {\n",
       "        text-align: right;\n",
       "    }\n",
       "</style>\n",
       "<table border=\"1\" class=\"dataframe\">\n",
       "  <thead>\n",
       "    <tr style=\"text-align: right;\">\n",
       "      <th></th>\n",
       "      <th>APMC</th>\n",
       "      <th>Commodity</th>\n",
       "      <th>Year</th>\n",
       "      <th>Month</th>\n",
       "      <th>arrivals_in_qtl</th>\n",
       "      <th>min_price</th>\n",
       "      <th>max_price</th>\n",
       "      <th>modal_price</th>\n",
       "      <th>date</th>\n",
       "      <th>district_name</th>\n",
       "      <th>state_name</th>\n",
       "    </tr>\n",
       "    <tr>\n",
       "      <th>date</th>\n",
       "      <th></th>\n",
       "      <th></th>\n",
       "      <th></th>\n",
       "      <th></th>\n",
       "      <th></th>\n",
       "      <th></th>\n",
       "      <th></th>\n",
       "      <th></th>\n",
       "      <th></th>\n",
       "      <th></th>\n",
       "      <th></th>\n",
       "    </tr>\n",
       "  </thead>\n",
       "  <tbody>\n",
       "    <tr>\n",
       "      <th>2014-09-01</th>\n",
       "      <td>Kurdwadi</td>\n",
       "      <td>sorgum(jawar)</td>\n",
       "      <td>2014</td>\n",
       "      <td>September</td>\n",
       "      <td>454</td>\n",
       "      <td>1353</td>\n",
       "      <td>2610</td>\n",
       "      <td>1981</td>\n",
       "      <td>2014-09-01</td>\n",
       "      <td>Solapur</td>\n",
       "      <td>Maharashtra</td>\n",
       "    </tr>\n",
       "    <tr>\n",
       "      <th>2014-09-01</th>\n",
       "      <td>Satara</td>\n",
       "      <td>ladiesfinger</td>\n",
       "      <td>2014</td>\n",
       "      <td>September</td>\n",
       "      <td>128</td>\n",
       "      <td>2435</td>\n",
       "      <td>3261</td>\n",
       "      <td>2848</td>\n",
       "      <td>2014-09-01</td>\n",
       "      <td>Satara</td>\n",
       "      <td>Maharashtra</td>\n",
       "    </tr>\n",
       "    <tr>\n",
       "      <th>2014-09-01</th>\n",
       "      <td>Satara</td>\n",
       "      <td>potato</td>\n",
       "      <td>2014</td>\n",
       "      <td>September</td>\n",
       "      <td>2988</td>\n",
       "      <td>2175</td>\n",
       "      <td>2488</td>\n",
       "      <td>2331</td>\n",
       "      <td>2014-09-01</td>\n",
       "      <td>Satara</td>\n",
       "      <td>Maharashtra</td>\n",
       "    </tr>\n",
       "    <tr>\n",
       "      <th>2014-09-01</th>\n",
       "      <td>Satara</td>\n",
       "      <td>ginger(fresh)</td>\n",
       "      <td>2014</td>\n",
       "      <td>September</td>\n",
       "      <td>199</td>\n",
       "      <td>3438</td>\n",
       "      <td>4813</td>\n",
       "      <td>4125</td>\n",
       "      <td>2014-09-01</td>\n",
       "      <td>Satara</td>\n",
       "      <td>Maharashtra</td>\n",
       "    </tr>\n",
       "    <tr>\n",
       "      <th>2014-09-01</th>\n",
       "      <td>Satara</td>\n",
       "      <td>groundnutpods(dry)</td>\n",
       "      <td>2014</td>\n",
       "      <td>September</td>\n",
       "      <td>1</td>\n",
       "      <td>3000</td>\n",
       "      <td>4000</td>\n",
       "      <td>3500</td>\n",
       "      <td>2014-09-01</td>\n",
       "      <td>Satara</td>\n",
       "      <td>Maharashtra</td>\n",
       "    </tr>\n",
       "  </tbody>\n",
       "</table>\n",
       "</div>"
      ],
      "text/plain": [
       "                APMC           Commodity  Year      Month  arrivals_in_qtl  \\\n",
       "date                                                                         \n",
       "2014-09-01  Kurdwadi       sorgum(jawar)  2014  September              454   \n",
       "2014-09-01    Satara        ladiesfinger  2014  September              128   \n",
       "2014-09-01    Satara              potato  2014  September             2988   \n",
       "2014-09-01    Satara       ginger(fresh)  2014  September              199   \n",
       "2014-09-01    Satara  groundnutpods(dry)  2014  September                1   \n",
       "\n",
       "            min_price  max_price  modal_price       date district_name  \\\n",
       "date                                                                     \n",
       "2014-09-01       1353       2610         1981 2014-09-01       Solapur   \n",
       "2014-09-01       2435       3261         2848 2014-09-01        Satara   \n",
       "2014-09-01       2175       2488         2331 2014-09-01        Satara   \n",
       "2014-09-01       3438       4813         4125 2014-09-01        Satara   \n",
       "2014-09-01       3000       4000         3500 2014-09-01        Satara   \n",
       "\n",
       "             state_name  \n",
       "date                     \n",
       "2014-09-01  Maharashtra  \n",
       "2014-09-01  Maharashtra  \n",
       "2014-09-01  Maharashtra  \n",
       "2014-09-01  Maharashtra  \n",
       "2014-09-01  Maharashtra  "
      ]
     },
     "execution_count": 24,
     "metadata": {},
     "output_type": "execute_result"
    }
   ],
   "source": [
    "monthly_cmo_df.index = monthly_cmo_df.date\n",
    "monthly_cmo_df = monthly_cmo_df.sort_index()\n",
    "monthly_cmo_df.head()"
   ]
  },
  {
   "cell_type": "code",
   "execution_count": 25,
   "metadata": {},
   "outputs": [],
   "source": [
    "monthly_cmo_df_clean = monthly_cmo_df.drop(['Year', 'Month', 'date'], axis=1)"
   ]
  },
  {
   "cell_type": "markdown",
   "metadata": {},
   "source": [
    "Let's save the data after removing redundancy"
   ]
  },
  {
   "cell_type": "code",
   "execution_count": 26,
   "metadata": {},
   "outputs": [],
   "source": [
    "monthly_cmo_df_clean.to_csv('monthly_cmo_data_cleaned.csv')"
   ]
  },
  {
   "cell_type": "markdown",
   "metadata": {},
   "source": [
    "### Detecting and Removing Outliers\n",
    "\n",
    "Now we dectect outliers in our data and filter them."
   ]
  },
  {
   "cell_type": "code",
   "execution_count": 27,
   "metadata": {},
   "outputs": [
    {
     "data": {
      "text/plain": [
       "<matplotlib.axes._subplots.AxesSubplot at 0x7f0e34a283c8>"
      ]
     },
     "execution_count": 27,
     "metadata": {},
     "output_type": "execute_result"
    },
    {
     "data": {
      "image/png": "[encoded data removed]",
      "text/plain": [
       "<Figure size 432x288 with 1 Axes>"
      ]
     },
     "metadata": {},
     "output_type": "display_data"
    }
   ],
   "source": [
    "monthly_cmo_df_clean.plot(kind='box')"
   ]
  },
  {
   "cell_type": "markdown",
   "metadata": {},
   "source": [
    "Let's see which commodities are genrally in outliers. It will give us an idea if the outliers are genuine or they are because of some human/typing error"
   ]
  },
  {
   "cell_type": "code",
   "execution_count": 28,
   "metadata": {},
   "outputs": [
    {
     "name": "stdout",
     "output_type": "stream",
     "text": [
      "count       625\n",
      "unique       25\n",
      "top       onion\n",
      "freq        302\n",
      "Name: Commodity, dtype: object\n",
      "['onion' 'potato' 'coconut' 'wheat(husked)' 'rice(paddy-hus)' 'mosambi'\n",
      " 'shepu' 'coriander' 'methi(bhaji)' 'tomato' 'apple' 'sugar' 'orange'\n",
      " 'soybean' 'banana' 'cotton' 'math(bhaji)' 'jaggery' 'pigeonpea(tur)'\n",
      " 'watermelon' 'mango' 'turmeric' 'flower' 'maize' 'melon']\n"
     ]
    }
   ],
   "source": [
    "q = monthly_cmo_df_clean.arrivals_in_qtl.quantile(0.99)\n",
    "print(monthly_cmo_df_clean[monthly_cmo_df_clean.arrivals_in_qtl > q].Commodity.describe())\n",
    "print(monthly_cmo_df_clean[monthly_cmo_df_clean.arrivals_in_qtl > q].Commodity.unique())"
   ]
  },
  {
   "cell_type": "markdown",
   "metadata": {},
   "source": [
    "We can see some Commodities are outliers just because they have more demand ie. Oninon, Potato, etc. We should not filter them. *Instead the better approch would be to find outlier in each commodity*"
   ]
  },
  {
   "cell_type": "markdown",
   "metadata": {},
   "source": [
    "#### Filtering Outliers\n",
    "\n",
    "We will filter outliers which are 3 IRQ away from 25th and 75 percentile. We have left suspected outliers because after some analysis It looked like they were real data.\n",
    "\n",
    "we may test other method for filtering outlier later, like *FFT filtering*."
   ]
  },
  {
   "cell_type": "code",
   "execution_count": 29,
   "metadata": {},
   "outputs": [],
   "source": [
    "# filter outliers from selected columns, remove those rows which contain outlier\n",
    "def remove_outlier(df_in, column):\n",
    "    q1 = df_in[column].quantile(0.25)\n",
    "    q3 = df_in[column].quantile(0.75)\n",
    "    iqr = q3-q1 #Interquartile range\n",
    "    fence_low  = q1-3*iqr\n",
    "    fence_high = q3+3*iqr\n",
    "    df_out = df_in.loc[(df_in[column] > fence_low) & (df_in[column] < fence_high)]\n",
    "    return df_out"
   ]
  },
  {
   "cell_type": "code",
   "execution_count": 30,
   "metadata": {},
   "outputs": [],
   "source": [
    "# filter data for outliers\n",
    "cols = ['arrivals_in_qtl', 'min_price', 'max_price', 'modal_price']\n",
    "df_in =  monthly_cmo_df_clean\n",
    "for col in cols:\n",
    "    df_out = df_in.groupby('Commodity').apply(remove_outlier, col)\n",
    "    df_out.index = df_out.index.droplevel('Commodity')\n",
    "    df_in = df_out\n",
    "    \n",
    "df_filtered = df_in\n",
    "df_filtered.sort_index().to_csv('monthly_cmo_filtered.csv')"
   ]
  },
  {
   "cell_type": "code",
   "execution_count": 31,
   "metadata": {},
   "outputs": [
    {
     "data": {
      "text/plain": [
       "<matplotlib.axes._subplots.AxesSubplot at 0x7f0e34e2a2e8>"
      ]
     },
     "execution_count": 31,
     "metadata": {},
     "output_type": "execute_result"
    },
    {
     "data": {
      "image/png": "[encoded data removed]",
      "text/plain": [
       "<Figure size 432x288 with 1 Axes>"
      ]
     },
     "metadata": {},
     "output_type": "display_data"
    }
   ],
   "source": [
    "df_filtered.plot(kind='box')"
   ]
  },
  {
   "cell_type": "code",
   "execution_count": 32,
   "metadata": {},
   "outputs": [
    {
     "data": {
      "text/html": [
       "<div>\n",
       "<style scoped>\n",
       "    .dataframe tbody tr th:only-of-type {\n",
       "        vertical-align: middle;\n",
       "    }\n",
       "\n",
       "    .dataframe tbody tr th {\n",
       "        vertical-align: top;\n",
       "    }\n",
       "\n",
       "    .dataframe thead th {\n",
       "        text-align: right;\n",
       "    }\n",
       "</style>\n",
       "<table border=\"1\" class=\"dataframe\">\n",
       "  <thead>\n",
       "    <tr style=\"text-align: right;\">\n",
       "      <th></th>\n",
       "      <th>arrivals_in_qtl</th>\n",
       "      <th>min_price</th>\n",
       "      <th>max_price</th>\n",
       "      <th>modal_price</th>\n",
       "    </tr>\n",
       "  </thead>\n",
       "  <tbody>\n",
       "    <tr>\n",
       "      <th>count</th>\n",
       "      <td>55546.000000</td>\n",
       "      <td>55546.000000</td>\n",
       "      <td>55546.000000</td>\n",
       "      <td>55546.000000</td>\n",
       "    </tr>\n",
       "    <tr>\n",
       "      <th>mean</th>\n",
       "      <td>2859.060976</td>\n",
       "      <td>2883.479404</td>\n",
       "      <td>3608.449123</td>\n",
       "      <td>3265.666025</td>\n",
       "    </tr>\n",
       "    <tr>\n",
       "      <th>std</th>\n",
       "      <td>16167.906361</td>\n",
       "      <td>3033.748981</td>\n",
       "      <td>4164.385879</td>\n",
       "      <td>3563.506520</td>\n",
       "    </tr>\n",
       "    <tr>\n",
       "      <th>min</th>\n",
       "      <td>1.000000</td>\n",
       "      <td>0.000000</td>\n",
       "      <td>0.000000</td>\n",
       "      <td>0.000000</td>\n",
       "    </tr>\n",
       "    <tr>\n",
       "      <th>25%</th>\n",
       "      <td>30.000000</td>\n",
       "      <td>1260.000000</td>\n",
       "      <td>1597.000000</td>\n",
       "      <td>1451.000000</td>\n",
       "    </tr>\n",
       "    <tr>\n",
       "      <th>50%</th>\n",
       "      <td>155.000000</td>\n",
       "      <td>1966.500000</td>\n",
       "      <td>2750.000000</td>\n",
       "      <td>2396.000000</td>\n",
       "    </tr>\n",
       "    <tr>\n",
       "      <th>75%</th>\n",
       "      <td>752.000000</td>\n",
       "      <td>3884.000000</td>\n",
       "      <td>4576.750000</td>\n",
       "      <td>4214.000000</td>\n",
       "    </tr>\n",
       "    <tr>\n",
       "      <th>max</th>\n",
       "      <td>319889.000000</td>\n",
       "      <td>110313.000000</td>\n",
       "      <td>174375.000000</td>\n",
       "      <td>142344.000000</td>\n",
       "    </tr>\n",
       "  </tbody>\n",
       "</table>\n",
       "</div>"
      ],
      "text/plain": [
       "       arrivals_in_qtl      min_price      max_price    modal_price\n",
       "count     55546.000000   55546.000000   55546.000000   55546.000000\n",
       "mean       2859.060976    2883.479404    3608.449123    3265.666025\n",
       "std       16167.906361    3033.748981    4164.385879    3563.506520\n",
       "min           1.000000       0.000000       0.000000       0.000000\n",
       "25%          30.000000    1260.000000    1597.000000    1451.000000\n",
       "50%         155.000000    1966.500000    2750.000000    2396.000000\n",
       "75%         752.000000    3884.000000    4576.750000    4214.000000\n",
       "max      319889.000000  110313.000000  174375.000000  142344.000000"
      ]
     },
     "execution_count": 32,
     "metadata": {},
     "output_type": "execute_result"
    }
   ],
   "source": [
    "df_filtered.describe()\n",
    "# print(monthly_cmo_df_clean[df_filtered.arrivals_in_qtl > q].Commodity.describe())\n",
    "# print(monthly_cmo_df_clean[df_filtered.arrivals_in_qtl > q].Commodity.unique())"
   ]
  },
  {
   "cell_type": "markdown",
   "metadata": {},
   "source": [
    "Let's plot some line plot to see how outlier filtering has affected our data. We can do that by plotting data before and after filtering outlier. After ploting data we can see nature of plot has not changed much.\n",
    "\n",
    "*We can also see that some spikes in curve is reduced but where outlier is detected in one row of one column, whole row gets deleted we should interpolate instead of removing whole row*"
   ]
  },
  {
   "cell_type": "code",
   "execution_count": 33,
   "metadata": {},
   "outputs": [
    {
     "data": {
      "text/plain": [
       "array([<matplotlib.axes._subplots.AxesSubplot object at 0x7f0e3485c2b0>,\n",
       "       <matplotlib.axes._subplots.AxesSubplot object at 0x7f0e349065c0>],\n",
       "      dtype=object)"
      ]
     },
     "execution_count": 33,
     "metadata": {},
     "output_type": "execute_result"
    },
    {
     "data": {
      "image/png": "[encoded data removed]",
      "text/plain": [
       "<Figure size 432x288 with 2 Axes>"
      ]
     },
     "metadata": {},
     "output_type": "display_data"
    }
   ],
   "source": [
    "mask = (df_filtered[\"Commodity\"] == \"paddy-unhusked\")\n",
    "df_filtered.loc[mask, [\"modal_price\", 'arrivals_in_qtl']].resample('M').mean().plot(subplots=True)"
   ]
  },
  {
   "cell_type": "code",
   "execution_count": 34,
   "metadata": {},
   "outputs": [
    {
     "data": {
      "text/plain": [
       "array([<matplotlib.axes._subplots.AxesSubplot object at 0x7f0e348d7080>,\n",
       "       <matplotlib.axes._subplots.AxesSubplot object at 0x7f0e34670cc0>],\n",
       "      dtype=object)"
      ]
     },
     "execution_count": 34,
     "metadata": {},
     "output_type": "execute_result"
    },
    {
     "data": {
      "image/png": "[encoded data removed]",
      "text/plain": [
       "<Figure size 432x288 with 2 Axes>"
      ]
     },
     "metadata": {},
     "output_type": "display_data"
    }
   ],
   "source": [
    "mask = (monthly_cmo_df_clean[\"Commodity\"] == \"wheat(husked)\") & (monthly_cmo_df_clean[\"APMC\"]=='Ausa')\n",
    "monthly_cmo_df_clean.loc[mask, [\"modal_price\", 'arrivals_in_qtl']].plot(subplots=True)\n",
    "# df_filtered.loc[mask, ['arrivals_in_qtl']].resample('M').mean().plot()"
   ]
  },
  {
   "cell_type": "markdown",
   "metadata": {},
   "source": [
    "### Trends and Seasonality in Time Series Data\n",
    "\n",
    "Seasonality is a characteristic of a time series in which the data experiences regular and predictable changes that recur every calendar year. Any predictable change or pattern in a time series that recurs or repeats over a period can be said to be seasonal.\n"
   ]
  },
  {
   "cell_type": "code",
   "execution_count": 35,
   "metadata": {},
   "outputs": [
    {
     "data": {
      "text/plain": [
       "array([<matplotlib.axes._subplots.AxesSubplot object at 0x7f0e346d1320>,\n",
       "       <matplotlib.axes._subplots.AxesSubplot object at 0x7f0e345cff28>],\n",
       "      dtype=object)"
      ]
     },
     "execution_count": 35,
     "metadata": {},
     "output_type": "execute_result"
    },
    {
     "data": {
      "image/png": "[encoded data removed]",
      "text/plain": [
       "<Figure size 432x288 with 2 Axes>"
      ]
     },
     "metadata": {},
     "output_type": "display_data"
    }
   ],
   "source": [
    "mask = (df_filtered[\"Commodity\"] == \"paddy-unhusked\")\n",
    "df_filtered.loc[mask, [\"modal_price\", 'arrivals_in_qtl']].resample('M').mean().plot(subplots=True)"
   ]
  },
  {
   "cell_type": "markdown",
   "metadata": {},
   "source": [
    "We can see some seasonality in *paddy-unhusked*. We do seasonal decompositon to remove noise and levels."
   ]
  },
  {
   "cell_type": "code",
   "execution_count": 37,
   "metadata": {},
   "outputs": [],
   "source": [
    "from statsmodels.tsa.seasonal import seasonal_decompose"
   ]
  },
  {
   "cell_type": "code",
   "execution_count": 38,
   "metadata": {},
   "outputs": [
    {
     "name": "stdout",
     "output_type": "stream",
     "text": [
      "Seasonality:  [<matplotlib.axes._subplots.AxesSubplot object at 0x7f0e29cf0d68>\n",
      " <matplotlib.axes._subplots.AxesSubplot object at 0x7f0e25cb3320>]\n"
     ]
    },
    {
     "data": {
      "image/png": "[encoded data removed]",
      "text/plain": [
       "<Figure size 432x288 with 2 Axes>"
      ]
     },
     "metadata": {},
     "output_type": "display_data"
    }
   ],
   "source": [
    "result = seasonal_decompose(df_filtered.query('Commodity == \"paddy-unhusked\"').groupby(\"date\").sum()[[\"modal_price\", 'arrivals_in_qtl']], model='additive')\n",
    "print(\"Seasonality: \",result.seasonal.plot(subplots=True))"
   ]
  },
  {
   "cell_type": "markdown",
   "metadata": {},
   "source": [
    "We can see seasonal patterns `modal_price` as well as `arrivals_in_qtl`. We can see when arrivals are maximum, price are lower and vice versa."
   ]
  },
  {
   "cell_type": "code",
   "execution_count": 39,
   "metadata": {},
   "outputs": [
    {
     "data": {
      "text/plain": [
       "<matplotlib.axes._subplots.AxesSubplot at 0x7f0e33e5b668>"
      ]
     },
     "execution_count": 39,
     "metadata": {},
     "output_type": "execute_result"
    },
    {
     "data": {
      "image/png": "[encoded data removed]",
      "text/plain": [
       "<Figure size 432x288 with 1 Axes>"
      ]
     },
     "metadata": {},
     "output_type": "display_data"
    }
   ],
   "source": [
    "df_filtered.query('APMC == \"Mumbai\"').resample('M').sum().modal_price.plot()"
   ]
  },
  {
   "cell_type": "code",
   "execution_count": 40,
   "metadata": {},
   "outputs": [
    {
     "data": {
      "text/plain": [
       "<matplotlib.axes._subplots.AxesSubplot at 0x7f0e25b82668>"
      ]
     },
     "execution_count": 40,
     "metadata": {},
     "output_type": "execute_result"
    },
    {
     "data": {
      "image/png": "[encoded data removed]",
      "text/plain": [
       "<Figure size 432x288 with 1 Axes>"
      ]
     },
     "metadata": {},
     "output_type": "display_data"
    }
   ],
   "source": [
    "df_filtered.query('APMC == \"Jalgaon\"').resample('M').sum().modal_price.plot()"
   ]
  },
  {
   "cell_type": "markdown",
   "metadata": {},
   "source": [
    "We can see there is *Additive* seasonality in data in cases we observed above. So we can infer that seasonality is additive in most of cases\n",
    "\n",
    "Now Lets decmpose seasonality."
   ]
  },
  {
   "cell_type": "code",
   "execution_count": 41,
   "metadata": {},
   "outputs": [
    {
     "name": "stdout",
     "output_type": "stream",
     "text": [
      "Seasonality:  AxesSubplot(0.125,0.125;0.775x0.755)\n"
     ]
    },
    {
     "data": {
      "image/png": "[encoded data removed]",
      "text/plain": [
       "<Figure size 432x288 with 1 Axes>"
      ]
     },
     "metadata": {},
     "output_type": "display_data"
    }
   ],
   "source": [
    "result = seasonal_decompose(df_filtered.query('APMC == \"Mumbai\"').resample('M').sum().modal_price, model='additive', freq=12)\n",
    "print(\"Seasonality: \",result.seasonal.plot())"
   ]
  },
  {
   "cell_type": "code",
   "execution_count": 42,
   "metadata": {},
   "outputs": [
    {
     "name": "stdout",
     "output_type": "stream",
     "text": [
      "Seasonality:  AxesSubplot(0.125,0.125;0.775x0.755)\n"
     ]
    },
    {
     "data": {
      "image/png": "[encoded data removed]",
      "text/plain": [
       "<Figure size 432x288 with 1 Axes>"
      ]
     },
     "metadata": {},
     "output_type": "display_data"
    }
   ],
   "source": [
    "# we can also use groupby instead of resample\n",
    "result = seasonal_decompose(df_filtered.query('APMC == \"Jalgaon\"').groupby(\"date\").sum().modal_price, model='additive', freq=12)\n",
    "print(\"Seasonality: \",result.seasonal.plot())"
   ]
  },
  {
   "cell_type": "markdown",
   "metadata": {},
   "source": [
    "Let's also load other `csv` file and view it"
   ]
  },
  {
   "cell_type": "code",
   "execution_count": 43,
   "metadata": {},
   "outputs": [
    {
     "data": {
      "text/plain": [
       "count       625\n",
       "unique       25\n",
       "top       onion\n",
       "freq        302\n",
       "Name: Commodity, dtype: object"
      ]
     },
     "execution_count": 43,
     "metadata": {},
     "output_type": "execute_result"
    }
   ],
   "source": [
    "monthly_cmo_df_clean.loc[monthly_cmo_df_clean.arrivals_in_qtl>monthly_cmo_df_clean.arrivals_in_qtl.quantile(0.99)].Commodity.describe()"
   ]
  },
  {
   "cell_type": "code",
   "execution_count": 44,
   "metadata": {},
   "outputs": [
    {
     "data": {
      "text/plain": [
       "array(['bedana', 'coconut', 'cotton', 'onion', 'spiltpigeonpea', 'sugar'],\n",
       "      dtype=object)"
      ]
     },
     "execution_count": 44,
     "metadata": {},
     "output_type": "execute_result"
    }
   ],
   "source": [
    "df_filtered.loc[df_filtered.arrivals_in_qtl>df_filtered.arrivals_in_qtl.quantile(0.99)].Commodity.unique()"
   ]
  },
  {
   "cell_type": "code",
   "execution_count": 45,
   "metadata": {},
   "outputs": [],
   "source": [
    "cmo_msp = 'CMO_MSP_Mandi.csv'\n",
    "cmo_msp_df = pd.read_csv(cmo_msp)"
   ]
  },
  {
   "cell_type": "code",
   "execution_count": null,
   "metadata": {},
   "outputs": [],
   "source": []
  },
  {
   "cell_type": "code",
   "execution_count": 46,
   "metadata": {},
   "outputs": [
    {
     "data": {
      "text/plain": [
       "Index(['commodity', 'year', 'Type', 'msprice', 'msp_filter'], dtype='object')"
      ]
     },
     "execution_count": 46,
     "metadata": {},
     "output_type": "execute_result"
    }
   ],
   "source": [
    "cmo_msp_df.columns"
   ]
  },
  {
   "cell_type": "code",
   "execution_count": 47,
   "metadata": {},
   "outputs": [
    {
     "data": {
      "text/html": [
       "<div>\n",
       "<style scoped>\n",
       "    .dataframe tbody tr th:only-of-type {\n",
       "        vertical-align: middle;\n",
       "    }\n",
       "\n",
       "    .dataframe tbody tr th {\n",
       "        vertical-align: top;\n",
       "    }\n",
       "\n",
       "    .dataframe thead th {\n",
       "        text-align: right;\n",
       "    }\n",
       "</style>\n",
       "<table border=\"1\" class=\"dataframe\">\n",
       "  <thead>\n",
       "    <tr style=\"text-align: right;\">\n",
       "      <th></th>\n",
       "      <th>commodity</th>\n",
       "      <th>year</th>\n",
       "      <th>Type</th>\n",
       "      <th>msprice</th>\n",
       "      <th>msp_filter</th>\n",
       "    </tr>\n",
       "  </thead>\n",
       "  <tbody>\n",
       "    <tr>\n",
       "      <th>0</th>\n",
       "      <td>PADDY-UNHUSKED</td>\n",
       "      <td>2012</td>\n",
       "      <td>Kharif Crops</td>\n",
       "      <td>1250.0</td>\n",
       "      <td>1</td>\n",
       "    </tr>\n",
       "    <tr>\n",
       "      <th>1</th>\n",
       "      <td>RICE(PADDY-HUS)</td>\n",
       "      <td>2012</td>\n",
       "      <td>Kharif Crops</td>\n",
       "      <td>1280.0</td>\n",
       "      <td>1</td>\n",
       "    </tr>\n",
       "    <tr>\n",
       "      <th>2</th>\n",
       "      <td>Jowar_Hybrid</td>\n",
       "      <td>2012</td>\n",
       "      <td>Kharif Crops</td>\n",
       "      <td>1500.0</td>\n",
       "      <td>1</td>\n",
       "    </tr>\n",
       "    <tr>\n",
       "      <th>3</th>\n",
       "      <td>SORGUM(JAWAR)</td>\n",
       "      <td>2012</td>\n",
       "      <td>Kharif Crops</td>\n",
       "      <td>1520.0</td>\n",
       "      <td>1</td>\n",
       "    </tr>\n",
       "    <tr>\n",
       "      <th>4</th>\n",
       "      <td>BAJRI</td>\n",
       "      <td>2012</td>\n",
       "      <td>Kharif Crops</td>\n",
       "      <td>1175.0</td>\n",
       "      <td>1</td>\n",
       "    </tr>\n",
       "  </tbody>\n",
       "</table>\n",
       "</div>"
      ],
      "text/plain": [
       "         commodity  year          Type  msprice  msp_filter\n",
       "0   PADDY-UNHUSKED  2012  Kharif Crops   1250.0           1\n",
       "1  RICE(PADDY-HUS)  2012  Kharif Crops   1280.0           1\n",
       "2     Jowar_Hybrid  2012  Kharif Crops   1500.0           1\n",
       "3    SORGUM(JAWAR)  2012  Kharif Crops   1520.0           1\n",
       "4            BAJRI  2012  Kharif Crops   1175.0           1"
      ]
     },
     "execution_count": 47,
     "metadata": {},
     "output_type": "execute_result"
    }
   ],
   "source": [
    "cmo_msp_df.head()"
   ]
  },
  {
   "cell_type": "code",
   "execution_count": 48,
   "metadata": {},
   "outputs": [
    {
     "name": "stdout",
     "output_type": "stream",
     "text": [
      "<class 'pandas.core.frame.DataFrame'>\n",
      "RangeIndex: 155 entries, 0 to 154\n",
      "Data columns (total 5 columns):\n",
      "commodity     155 non-null object\n",
      "year          155 non-null int64\n",
      "Type          155 non-null object\n",
      "msprice       145 non-null float64\n",
      "msp_filter    155 non-null int64\n",
      "dtypes: float64(1), int64(2), object(2)\n",
      "memory usage: 6.1+ KB\n"
     ]
    }
   ],
   "source": [
    "cmo_msp_df.info()"
   ]
  },
  {
   "cell_type": "code",
   "execution_count": null,
   "metadata": {},
   "outputs": [],
   "source": []
  },
  {
   "cell_type": "markdown",
   "metadata": {},
   "source": [
    "Here we can see we have misiing values in `cmo_msp_df`. `msprice` has 10 values missing."
   ]
  },
  {
   "cell_type": "code",
   "execution_count": 49,
   "metadata": {},
   "outputs": [
    {
     "data": {
      "text/plain": [
       "(array([2012, 2013, 2014, 2015, 2016]),\n",
       " array(['Kharif Crops', 'Rabi Crops', 'Other Crops'], dtype=object),\n",
       " array(['PADDY-UNHUSKED', 'RICE(PADDY-HUS)', 'Jowar_Hybrid',\n",
       "        'SORGUM(JAWAR)', 'BAJRI', 'MAIZE', 'Ragi_Maldandi',\n",
       "        'PIGEON PEA (TUR)', 'SPILT GERRN GRAM', 'SPLIT BLACK GRAM',\n",
       "        'COTTON', 'Cotton_Long Staple', 'GR.NUT KERNELS', 'SUNFLOWER',\n",
       "        'Soyabean_Black', 'SOYABEAN', 'SESAMUM', 'NIGER-SEED',\n",
       "        'WHEAT(HUSKED)', 'WHEAT(UNHUSKED)', 'BARLI', 'Gram_Yellow',\n",
       "        'Masur_Yellow', 'MUSTARD', 'SAFFLOWER', 'Toria_Yellow',\n",
       "        'Copra (Milling)_Yellow', 'Copra (Ball)_Yellow', 'COCONUT',\n",
       "        'Jute_Yellow', 'SUGAR-CANE', 'SUGARCANE'], dtype=object),\n",
       " array([1]))"
      ]
     },
     "execution_count": 49,
     "metadata": {},
     "output_type": "execute_result"
    }
   ],
   "source": [
    "cmo_msp_df.year.unique(), cmo_msp_df.Type.unique(), cmo_msp_df.commodity.unique(), cmo_msp_df.msp_filter.unique()"
   ]
  },
  {
   "cell_type": "code",
   "execution_count": null,
   "metadata": {},
   "outputs": [],
   "source": []
  }
 ],
 "metadata": {
  "kernelspec": {
   "display_name": "Python 3",
   "language": "python",
   "name": "python3"
  },
  "language_info": {
   "codemirror_mode": {
    "name": "ipython",
    "version": 3
   },
   "file_extension": ".py",
   "mimetype": "text/x-python",
   "name": "python",
   "nbconvert_exporter": "python",
   "pygments_lexer": "ipython3",
   "version": "3.6.5"
  }
 },
 "nbformat": 4,
 "nbformat_minor": 2
}
